{
  "nbformat": 4,
  "nbformat_minor": 0,
  "metadata": {
    "colab": {
      "name": "TabNet.ipynb",
      "provenance": [],
      "authorship_tag": "ABX9TyOUcT+fCS/Vh+ELRPSmAxUq",
      "include_colab_link": true
    },
    "kernelspec": {
      "name": "python3",
      "display_name": "Python 3"
    },
    "language_info": {
      "name": "python"
    }
  },
  "cells": [
    {
      "cell_type": "markdown",
      "metadata": {
        "id": "view-in-github",
        "colab_type": "text"
      },
      "source": [
        "<a href=\"https://colab.research.google.com/github/dschloe/google_drive/blob/main/TabNet.ipynb\" target=\"_parent\"><img src=\"https://colab.research.google.com/assets/colab-badge.svg\" alt=\"Open In Colab\"/></a>"
      ]
    },
    {
      "cell_type": "markdown",
      "source": [
        "# TabNet\n",
        "- Keywords\n",
        "  + raw tabular data without any preprocessing\n",
        "  + sequential attention to choose features\n",
        "  + interpretability\n",
        "  + feature selection\n",
        "  + local interpretability visisualizing feature importances, how they are combined for a single row,\n",
        "  + global interpretability which measures the contribution of each feature to the trained model\n",
        "- https://towardsdatascience.com/tabnet-e1b979907694"
      ],
      "metadata": {
        "id": "4aSsKIV5uwtY"
      }
    },
    {
      "cell_type": "markdown",
      "source": [
        "## Steps \n",
        "- Step Hyperparameter option\n",
        "  + Increasing this will increase the learning capacity of the model, but will also increase training time, memory usage and the chance of overfitting.\n",
        "  + Each Step gets its own vote in final classification\n",
        "  + These votes are equally weighted, mimicking an ensemble classification \n",
        "- ref. https://towardsdatascience.com/tabnet-e1b979907694"
      ],
      "metadata": {
        "id": "B9OCfpsqwwB5"
      }
    },
    {
      "cell_type": "code",
      "execution_count": null,
      "metadata": {
        "id": "tz96o8HZurMy"
      },
      "outputs": [],
      "source": [
        ""
      ]
    }
  ]
}